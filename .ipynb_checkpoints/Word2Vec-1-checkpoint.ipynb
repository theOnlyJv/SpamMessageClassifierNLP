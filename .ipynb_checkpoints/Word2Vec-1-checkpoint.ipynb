{
 "cells": [
  {
   "cell_type": "code",
   "execution_count": 1,
   "metadata": {},
   "outputs": [],
   "source": [
    "import gensim\n",
    "from gensim.models import word2vec\n",
    "from gensim.models import KeyedVectors\n",
    "from sklearn.metrics.pairwise import cosine_similarity\n",
    "import numpy as np"
   ]
  },
  {
   "cell_type": "code",
   "execution_count": null,
   "metadata": {},
   "outputs": [],
   "source": [
    "word_vectors = KeyedVectors.load_word2vec_format('GoogleNews-vectors-negative300.bin',binary=True)"
   ]
  },
  {
   "cell_type": "code",
   "execution_count": 41,
   "metadata": {},
   "outputs": [],
   "source": [
    "vec_india = word_vectors[\"india\"]"
   ]
  },
  {
   "cell_type": "code",
   "execution_count": 42,
   "metadata": {},
   "outputs": [],
   "source": [
    "vec_mango = word_vectors[\"mango\"]"
   ]
  },
  {
   "cell_type": "code",
   "execution_count": 43,
   "metadata": {},
   "outputs": [
    {
     "name": "stdout",
     "output_type": "stream",
     "text": [
      "(300,)\n",
      "(300,)\n"
     ]
    }
   ],
   "source": [
    "print(vec_mango.shape)\n",
    "print(vec_apple.shape)"
   ]
  },
  {
   "cell_type": "code",
   "execution_count": 44,
   "metadata": {},
   "outputs": [
    {
     "data": {
      "text/plain": [
       "array([[0.18220624]], dtype=float32)"
      ]
     },
     "execution_count": 44,
     "metadata": {},
     "output_type": "execute_result"
    }
   ],
   "source": [
    "cosine_similarity([vec_india],[vec_mango])"
   ]
  },
  {
   "cell_type": "code",
   "execution_count": 62,
   "metadata": {},
   "outputs": [],
   "source": [
    "#Find the Odd one out\n",
    "\n",
    "def oddOneOut(words):\n",
    "    \"\"\"Accepts list of words and returns odd words\"\"\"\n",
    "    \"\"\"Generate word embddings from the given list\"\"\"\n",
    "    \n",
    "    all_words_vectors = [word_vectors[w] for w in words]\n",
    "    avg_vectors = np.mean(all_words_vectors,axis=0)\n",
    "    print(avg_vectors.shape)\n",
    "    \n",
    "    \"\"\"Iterate over every word and find similrity\"\"\"\n",
    "    odd_one_out = None\n",
    "    min_similarity = 1.0#Very high value\n",
    "     \n",
    "    for w in words:\n",
    "        sim = cosine_similarity([word_vectors[w]],[avg_vectors])\n",
    "        if sim < min_similarity:\n",
    "            min_similarity=sim\n",
    "            odd_one_out=w\n",
    "        print(\"Similarity between the {} and average vector is {}\".format(w,sim))\n",
    "            \n",
    "    \n",
    "            \n",
    "    return odd_one_out\n",
    "    "
   ]
  },
  {
   "cell_type": "code",
   "execution_count": 65,
   "metadata": {},
   "outputs": [
    {
     "name": "stdout",
     "output_type": "stream",
     "text": [
      "(300,)\n",
      "Similarity between the mango and average vector is [[0.71648824]]\n",
      "Similarity between the apple and average vector is [[0.8054589]]\n",
      "Similarity between the orange and average vector is [[0.6259545]]\n",
      "Similarity between the steve and average vector is [[0.5655602]]\n",
      "(300,)\n",
      "Similarity between the moscow and average vector is [[0.723529]]\n",
      "Similarity between the delhi and average vector is [[0.78751266]]\n",
      "Similarity between the london and average vector is [[0.83439445]]\n",
      "Similarity between the vietnam and average vector is [[0.6873736]]\n"
     ]
    },
    {
     "data": {
      "text/plain": [
       "'vietnam'"
      ]
     },
     "execution_count": 65,
     "metadata": {},
     "output_type": "execute_result"
    }
   ],
   "source": [
    "oddOneOut(input_1)\n",
    "oddOneOut(input_2)"
   ]
  },
  {
   "cell_type": "code",
   "execution_count": 64,
   "metadata": {},
   "outputs": [],
   "source": [
    "input_1 = [\"mango\",\"apple\",\"orange\",\"steve\"]\n",
    "input_2 = ['moscow','delhi','london','vietnam']"
   ]
  },
  {
   "cell_type": "code",
   "execution_count": null,
   "metadata": {},
   "outputs": [],
   "source": []
  }
 ],
 "metadata": {
  "kernelspec": {
   "display_name": "Python 3",
   "language": "python",
   "name": "python3"
  },
  "language_info": {
   "codemirror_mode": {
    "name": "ipython",
    "version": 3
   },
   "file_extension": ".py",
   "mimetype": "text/x-python",
   "name": "python",
   "nbconvert_exporter": "python",
   "pygments_lexer": "ipython3",
   "version": "3.7.4"
  }
 },
 "nbformat": 4,
 "nbformat_minor": 2
}
