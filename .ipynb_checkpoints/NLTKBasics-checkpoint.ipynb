{
 "cells": [
  {
   "cell_type": "code",
   "execution_count": 1,
   "metadata": {},
   "outputs": [],
   "source": [
    "from nltk.corpus import brown"
   ]
  },
  {
   "cell_type": "code",
   "execution_count": 2,
   "metadata": {},
   "outputs": [
    {
     "name": "stdout",
     "output_type": "stream",
     "text": [
      "['adventure', 'belles_lettres', 'editorial', 'fiction', 'government', 'hobbies', 'humor', 'learned', 'lore', 'mystery', 'news', 'religion', 'reviews', 'romance', 'science_fiction']\n"
     ]
    }
   ],
   "source": [
    "print(brown.categories())"
   ]
  },
  {
   "cell_type": "code",
   "execution_count": 3,
   "metadata": {},
   "outputs": [
    {
     "name": "stdout",
     "output_type": "stream",
     "text": [
      "[['Assembly', 'session', 'brought', 'much', 'good'], ['The', 'General', 'Assembly', ',', 'which', 'adjourns', 'today', ',', 'has', 'performed', 'in', 'an', 'atmosphere', 'of', 'crisis', 'and', 'struggle', 'from', 'the', 'day', 'it', 'convened', '.'], ...]\n"
     ]
    }
   ],
   "source": [
    "data=brown.sents(categories='editorial')[:100]\n",
    "print(data)"
   ]
  },
  {
   "cell_type": "markdown",
   "metadata": {},
   "source": [
    "Basic NLP Pipeline\n",
    " 1.Data Collection\n",
    " 2.Tokenisation,StopWord and Stemming/Lematisation\n",
    " 3.Building a common Vocab\n",
    " 4.Vectorizing Documents\n",
    " 5.Building classification/clustering"
   ]
  },
  {
   "cell_type": "code",
   "execution_count": 4,
   "metadata": {},
   "outputs": [],
   "source": [
    "text='It was a very pleasant day, the weather was cool with light thunderstorms. I went to the market to buy fruits'"
   ]
  },
  {
   "cell_type": "code",
   "execution_count": 5,
   "metadata": {},
   "outputs": [],
   "source": [
    "from nltk.tokenize import sent_tokenize,word_tokenize"
   ]
  },
  {
   "cell_type": "code",
   "execution_count": 7,
   "metadata": {},
   "outputs": [
    {
     "name": "stdout",
     "output_type": "stream",
     "text": [
      "['It was a very pleasant day, the weather was cool with light thunderstorms.', 'I went to the market to buy fruits']\n",
      "['it', 'was', 'a', 'very', 'pleasant', 'day', ',', 'the', 'weather', 'was', 'cool', 'with', 'light', 'thunderstorms', '.']\n"
     ]
    }
   ],
   "source": [
    "sent=sent_tokenize(text)\n",
    "words_list=word_tokenize(sent[0].lower())\n",
    "print(sent)\n",
    "print(words_list)"
   ]
  },
  {
   "cell_type": "code",
   "execution_count": 8,
   "metadata": {},
   "outputs": [
    {
     "name": "stdout",
     "output_type": "stream",
     "text": [
      "179\n"
     ]
    }
   ],
   "source": [
    "#Stopword Removal\n",
    "from nltk.corpus import stopwords\n",
    "sw=set(stopwords.words('english'))\n",
    "print(len(sw))\n"
   ]
  },
  {
   "cell_type": "markdown",
   "metadata": {},
   "source": [
    "Filtering the words"
   ]
  },
  {
   "cell_type": "code",
   "execution_count": 9,
   "metadata": {},
   "outputs": [
    {
     "ename": "NameError",
     "evalue": "name 'useful_words' is not defined",
     "output_type": "error",
     "traceback": [
      "\u001b[0;31m---------------------------------------------------------------------------\u001b[0m",
      "\u001b[0;31mNameError\u001b[0m                                 Traceback (most recent call last)",
      "\u001b[0;32m<ipython-input-9-b899d5fa56fb>\u001b[0m in \u001b[0;36m<module>\u001b[0;34m\u001b[0m\n\u001b[1;32m      2\u001b[0m     \u001b[0museful_words\u001b[0m\u001b[0;34m=\u001b[0m\u001b[0;34m[\u001b[0m\u001b[0mw\u001b[0m \u001b[0;32mfor\u001b[0m \u001b[0mw\u001b[0m \u001b[0;32min\u001b[0m \u001b[0mwords_list\u001b[0m \u001b[0;32mif\u001b[0m \u001b[0mw\u001b[0m \u001b[0;32mnot\u001b[0m \u001b[0;32min\u001b[0m \u001b[0msw\u001b[0m\u001b[0;34m]\u001b[0m\u001b[0;34m\u001b[0m\u001b[0;34m\u001b[0m\u001b[0m\n\u001b[1;32m      3\u001b[0m     \u001b[0;32mreturn\u001b[0m \u001b[0museful_words\u001b[0m\u001b[0;34m\u001b[0m\u001b[0;34m\u001b[0m\u001b[0m\n\u001b[0;32m----> 4\u001b[0;31m \u001b[0mprint\u001b[0m\u001b[0;34m(\u001b[0m\u001b[0museful_words\u001b[0m\u001b[0;34m)\u001b[0m\u001b[0;34m\u001b[0m\u001b[0;34m\u001b[0m\u001b[0m\n\u001b[0m",
      "\u001b[0;31mNameError\u001b[0m: name 'useful_words' is not defined"
     ]
    }
   ],
   "source": [
    "def filter_words(words_list):\n",
    "    useful_words=[w for w in words_list if w not in sw]\n",
    "    return useful_words\n",
    "print(useful_words)"
   ]
  },
  {
   "cell_type": "markdown",
   "metadata": {},
   "source": [
    "Tokenisation using Regular Expression\n",
    "Problem with word tokenizer - Cant handle complex tokenisation"
   ]
  },
  {
   "cell_type": "code",
   "execution_count": 10,
   "metadata": {},
   "outputs": [
    {
     "name": "stdout",
     "output_type": "stream",
     "text": [
      "['Kabhi', 'Kabhi', 'Lagta', 'Hai', 'Apun', ',Hi', 'Bhagwan', 'Hai']\n"
     ]
    }
   ],
   "source": [
    "from nltk.tokenize import RegexpTokenizer\n",
    "tokenizer=RegexpTokenizer(\"[a-z,A-Z]+\")\n",
    "text=\"Kabhi Kabhi Lagta Hai Apun ,Hi 2 Bhagwan Hai 1.0\"\n",
    "print(tokenizer.tokenize(text))"
   ]
  },
  {
   "cell_type": "markdown",
   "metadata": {},
   "source": [
    "Stemming\n",
    "  1.Process that transforms particular words(verbs,plural) into their radical form\n",
    "  2.Preserve the semantics of the sentence without increasing the number of unique tokens\n",
    "  3.jumps,jumping,jumped=>jump"
   ]
  },
  {
   "cell_type": "code",
   "execution_count": 11,
   "metadata": {},
   "outputs": [
    {
     "name": "stdout",
     "output_type": "stream",
     "text": [
      "['foxes', 'love', 'to', 'make', 'jumps', 'the', 'quick', 'brown', 'fox', 'was', 'seen', 'jumping', 'over', 'the', 'lovely', 'dog', 'from', 'a', 'feet', 'high', 'wall']\n"
     ]
    }
   ],
   "source": [
    "text=\"Foxes love to make jumps. The Quick Brown Fox was seen jumping over the lovely dog from a 6 feet high wall\"\n",
    "w_list=tokenizer.tokenize(text.lower())\n",
    "print(w_list)"
   ]
  },
  {
   "cell_type": "code",
   "execution_count": 12,
   "metadata": {},
   "outputs": [
    {
     "name": "stdout",
     "output_type": "stream",
     "text": [
      "['foxes', 'love', 'make', 'jumps', 'quick', 'brown', 'fox', 'seen', 'jumping', 'lovely', 'dog', 'feet', 'high', 'wall']\n"
     ]
    }
   ],
   "source": [
    "w_list=filter_words(w_list)\n",
    "print(w_list)"
   ]
  },
  {
   "cell_type": "markdown",
   "metadata": {},
   "source": [
    "###Stemming\n",
    "1.Snowball Stemmer(Multi Lingual)\n",
    "2.Porter\n",
    "3.Lancaster\n",
    "\n"
   ]
  },
  {
   "cell_type": "code",
   "execution_count": 13,
   "metadata": {},
   "outputs": [],
   "source": [
    "from nltk.stem.snowball import PorterStemmer, SnowballStemmer\n",
    "from nltk.stem.lancaster import LancasterStemmer\n",
    "ps=PorterStemmer()"
   ]
  },
  {
   "cell_type": "code",
   "execution_count": 14,
   "metadata": {},
   "outputs": [
    {
     "data": {
      "text/plain": [
       "'jump'"
      ]
     },
     "execution_count": 14,
     "metadata": {},
     "output_type": "execute_result"
    }
   ],
   "source": [
    "ps.stem('jumping')"
   ]
  },
  {
   "cell_type": "code",
   "execution_count": 15,
   "metadata": {},
   "outputs": [
    {
     "data": {
      "text/plain": [
       "'jerk'"
      ]
     },
     "execution_count": 15,
     "metadata": {},
     "output_type": "execute_result"
    }
   ],
   "source": [
    "ps.stem(\"jerking\")"
   ]
  },
  {
   "cell_type": "code",
   "execution_count": 16,
   "metadata": {},
   "outputs": [
    {
     "name": "stdout",
     "output_type": "stream",
     "text": [
      "teenag\n",
      "teen\n",
      "couari\n"
     ]
    }
   ],
   "source": [
    "ls=LancasterStemmer()\n",
    "sb=SnowballStemmer('english')\n",
    "print(ps.stem(\"teenager\"))\n",
    "print(ls.stem(\"teenager\"))\n",
    "print(sb.stem('couaris'))"
   ]
  },
  {
   "cell_type": "code",
   "execution_count": 17,
   "metadata": {},
   "outputs": [],
   "source": [
    "def NLP(text):\n",
    "    word_list=tokenizer.tokenize(text.lower())\n",
    "    word_list=filter_words(word_list)\n",
    "    for i in word_list:\n",
    "        ps.stem(text)\n",
    "    return word_list\n",
    "\n",
    "    "
   ]
  },
  {
   "cell_type": "code",
   "execution_count": 18,
   "metadata": {},
   "outputs": [
    {
     "data": {
      "text/plain": [
       "['jackass', 'lovely', 'dog']"
      ]
     },
     "execution_count": 18,
     "metadata": {},
     "output_type": "execute_result"
    }
   ],
   "source": [
    "NLP(\"Jackass is a lovely dog\")"
   ]
  },
  {
   "cell_type": "markdown",
   "metadata": {},
   "source": [
    "Building Common Vocabulary and Vectorizing Documents(based on bag of words model)"
   ]
  },
  {
   "cell_type": "code",
   "execution_count": 19,
   "metadata": {},
   "outputs": [],
   "source": [
    "corpus=[\n",
    "    'Indian Cricket Team will win the World Cup, says Capt. Virat Kohli. World Cup will be held in Sri Lanka',\n",
    "    'We will win next year election, says confident Indian PM Modi',\n",
    "    'The nobel laurate will our hearts',\n",
    "    'The movie Raazi is an Indian Spy thriller based on a real story',\n",
    "]"
   ]
  },
  {
   "cell_type": "code",
   "execution_count": 20,
   "metadata": {},
   "outputs": [],
   "source": [
    "from sklearn.feature_extraction.text import CountVectorizer"
   ]
  },
  {
   "cell_type": "code",
   "execution_count": 21,
   "metadata": {},
   "outputs": [],
   "source": [
    "cv=CountVectorizer()"
   ]
  },
  {
   "cell_type": "code",
   "execution_count": 22,
   "metadata": {},
   "outputs": [],
   "source": [
    "vectorized_corpus=cv.fit_transform(corpus).toarray()"
   ]
  },
  {
   "cell_type": "code",
   "execution_count": 23,
   "metadata": {},
   "outputs": [
    {
     "name": "stdout",
     "output_type": "stream",
     "text": [
      "38\n"
     ]
    }
   ],
   "source": [
    "vectorized_corpus\n",
    "print(len(vectorized_corpus[0]))"
   ]
  },
  {
   "cell_type": "code",
   "execution_count": 24,
   "metadata": {},
   "outputs": [
    {
     "name": "stdout",
     "output_type": "stream",
     "text": [
      "{'indian': 11, 'cricket': 5, 'team': 29, 'will': 34, 'win': 35, 'the': 30, 'world': 36, 'cup': 6, 'says': 25, 'capt': 3, 'virat': 32, 'kohli': 13, 'be': 2, 'held': 9, 'in': 10, 'sri': 27, 'lanka': 14, 'we': 33, 'next': 18, 'year': 37, 'election': 7, 'confident': 4, 'pm': 22, 'modi': 16, 'nobel': 19, 'laurate': 15, 'our': 21, 'hearts': 8, 'movie': 17, 'raazi': 23, 'is': 12, 'an': 0, 'spy': 26, 'thriller': 31, 'based': 1, 'on': 20, 'real': 24, 'story': 28}\n"
     ]
    }
   ],
   "source": [
    "print(cv.vocabulary_) #Dictionary Word->Index"
   ]
  },
  {
   "cell_type": "code",
   "execution_count": 25,
   "metadata": {},
   "outputs": [
    {
     "name": "stdout",
     "output_type": "stream",
     "text": [
      "[1. 1. 1. 0. 0. 0. 0. 1. 1. 1. 1. 1. 1. 1. 1. 1. 1. 1. 1. 1. 1. 1. 1. 1.\n",
      " 1. 1. 1. 1. 1. 1. 1. 1. 1.]\n"
     ]
    }
   ],
   "source": [
    "#Given a vector, what is the sentence\n",
    "import numpy as np\n",
    "vector=np.ones((33,))\n",
    "vector[3:7]=0\n",
    "print(vector)"
   ]
  },
  {
   "cell_type": "code",
   "execution_count": 26,
   "metadata": {},
   "outputs": [
    {
     "name": "stdout",
     "output_type": "stream",
     "text": [
      "[array(['an', 'based', 'be', 'election', 'hearts', 'held', 'in', 'indian',\n",
      "       'is', 'kohli', 'lanka', 'laurate', 'modi', 'movie', 'next',\n",
      "       'nobel', 'on', 'our', 'pm', 'raazi', 'real', 'says', 'spy', 'sri',\n",
      "       'story', 'team', 'the', 'thriller', 'virat'], dtype='<U9')]\n"
     ]
    }
   ],
   "source": [
    "print(cv.inverse_transform(vector))"
   ]
  },
  {
   "cell_type": "code",
   "execution_count": 27,
   "metadata": {},
   "outputs": [
    {
     "data": {
      "text/plain": [
       "['indian',\n",
       " 'cricket',\n",
       " 'team',\n",
       " 'win',\n",
       " 'world',\n",
       " 'cup,',\n",
       " 'says',\n",
       " 'capt',\n",
       " 'virat',\n",
       " 'kohli',\n",
       " 'world',\n",
       " 'cup',\n",
       " 'held',\n",
       " 'sri',\n",
       " 'lanka']"
      ]
     },
     "execution_count": 27,
     "metadata": {},
     "output_type": "execute_result"
    }
   ],
   "source": [
    "##Effectively reduce size of vector\n",
    "def myTokeniser(sentence):\n",
    "    words=tokenizer.tokenize(sentence.lower())\n",
    "    return filter_words(words) #Filters the stopwords\n",
    "\n",
    "myTokeniser(corpus[0])\n"
   ]
  },
  {
   "cell_type": "code",
   "execution_count": 28,
   "metadata": {},
   "outputs": [
    {
     "name": "stdout",
     "output_type": "stream",
     "text": [
      "[0 1 0 1 1 1 0 0 1 1 1 1 0 0 0 0 0 0 0 0 1 0 1 0 1 0 1 1 2 0]\n",
      "30\n",
      "[array(['capt', 'cricket', 'cup', 'cup,', 'held', 'indian', 'kohli',\n",
      "       'lanka', 'says', 'sri', 'team', 'virat', 'win', 'world'],\n",
      "      dtype='<U9')]\n"
     ]
    }
   ],
   "source": [
    "cv=CountVectorizer(tokenizer=myTokeniser)\n",
    "vectorized_corpus=cv.fit_transform(corpus)\n",
    "vc=vectorized_corpus.toarray()\n",
    "print(vc[0])\n",
    "print(len(vc[0]))\n",
    "v=vc[0]\n",
    "print(cv.inverse_transform(vc[0]))"
   ]
  },
  {
   "cell_type": "markdown",
   "metadata": {},
   "source": [
    "Unigram Bag of Words Model"
   ]
  },
  {
   "cell_type": "markdown",
   "metadata": {},
   "source": [
    "Features of BOW Model\n",
    "  1.Unigrams,\n",
    "  2. Bigrams,Trigrams\n",
    "  3.n-grams"
   ]
  },
  {
   "cell_type": "code",
   "execution_count": 29,
   "metadata": {},
   "outputs": [
    {
     "name": "stdout",
     "output_type": "stream",
     "text": [
      "{'indian': 25, 'cricket': 9, 'team': 66, 'win': 75, 'world': 80, 'cup,': 15, 'says': 55, 'capt': 3, 'virat': 72, 'kohli': 32, 'cup': 12, 'held': 22, 'sri': 63, 'lanka': 35, 'indian cricket': 26, 'cricket team': 10, 'team win': 67, 'win world': 78, 'world cup,': 83, 'cup, says': 16, 'says capt': 56, 'capt virat': 4, 'virat kohli': 73, 'kohli world': 33, 'world cup': 81, 'cup held': 13, 'held sri': 23, 'sri lanka': 64, 'indian cricket team': 27, 'cricket team win': 11, 'team win world': 68, 'win world cup,': 79, 'world cup, says': 84, 'cup, says capt': 17, 'says capt virat': 57, 'capt virat kohli': 5, 'virat kohli world': 74, 'kohli world cup': 34, 'world cup held': 82, 'cup held sri': 14, 'held sri lanka': 24, 'next': 42, 'year': 85, 'election,': 18, 'confident': 6, 'pm': 48, 'modi': 38, 'win next': 76, 'next year': 43, 'year election,': 86, 'election, says': 19, 'says confident': 58, 'confident indian': 7, 'indian pm': 28, 'pm modi': 49, 'win next year': 77, 'next year election,': 44, 'year election, says': 87, 'election, says confident': 20, 'says confident indian': 59, 'confident indian pm': 8, 'indian pm modi': 29, 'nobel': 45, 'laurate': 36, 'hearts': 21, 'nobel laurate': 46, 'laurate hearts': 37, 'nobel laurate hearts': 47, 'movie': 39, 'raazi': 50, 'spy': 60, 'thriller': 69, 'based': 0, 'real': 53, 'story': 65, 'movie raazi': 40, 'raazi indian': 51, 'indian spy': 30, 'spy thriller': 61, 'thriller based': 70, 'based real': 1, 'real story': 54, 'movie raazi indian': 41, 'raazi indian spy': 52, 'indian spy thriller': 31, 'spy thriller based': 62, 'thriller based real': 71, 'based real story': 2}\n"
     ]
    }
   ],
   "source": [
    "cv=CountVectorizer(tokenizer=myTokeniser, ngram_range=(1,3))\n",
    "vectorized_corpus=cv.fit_transform(corpus)\n",
    "vc=vectorized_corpus.toarray()\n",
    "print(cv.vocabulary_)#The word along with its index\n"
   ]
  },
  {
   "cell_type": "code",
   "execution_count": 30,
   "metadata": {},
   "outputs": [
    {
     "name": "stdout",
     "output_type": "stream",
     "text": [
      "88\n"
     ]
    }
   ],
   "source": [
    "print(len(vc[0]))"
   ]
  },
  {
   "cell_type": "markdown",
   "metadata": {},
   "source": [
    "Tf-Idf Normalisation\n",
    "  1.Avoid features that occur very often , because they contain very less information\n",
    "  2.Information decreases as the frequency increases across differenet types of documents"
   ]
  },
  {
   "cell_type": "code",
   "execution_count": 31,
   "metadata": {},
   "outputs": [],
   "source": [
    "from sklearn.feature_extraction.text import TfidfVectorizer"
   ]
  },
  {
   "cell_type": "code",
   "execution_count": 32,
   "metadata": {},
   "outputs": [
    {
     "name": "stdout",
     "output_type": "stream",
     "text": [
      "[[0.         0.         0.18364677 0.18364677 0.         0.\n",
      "  0.18364677 0.18364677 0.18364677 0.18364677 0.18364677 0.18364677\n",
      "  0.         0.         0.         0.18364677 0.18364677 0.11721935\n",
      "  0.18364677 0.         0.         0.18364677 0.18364677 0.18364677\n",
      "  0.         0.         0.         0.         0.         0.\n",
      "  0.         0.         0.         0.         0.         0.\n",
      "  0.         0.         0.         0.14478922 0.18364677 0.\n",
      "  0.         0.         0.18364677 0.18364677 0.         0.18364677\n",
      "  0.18364677 0.         0.         0.18364677 0.18364677 0.14478922\n",
      "  0.         0.18364677 0.36729354 0.18364677 0.18364677 0.\n",
      "  0.        ]\n",
      " [0.         0.         0.         0.         0.25277526 0.25277526\n",
      "  0.         0.         0.         0.         0.         0.\n",
      "  0.25277526 0.25277526 0.         0.         0.         0.16134317\n",
      "  0.         0.25277526 0.         0.         0.         0.\n",
      "  0.         0.         0.25277526 0.         0.         0.25277526\n",
      "  0.25277526 0.         0.         0.25277526 0.25277526 0.\n",
      "  0.         0.         0.         0.19929092 0.         0.25277526\n",
      "  0.         0.         0.         0.         0.         0.\n",
      "  0.         0.         0.         0.         0.         0.19929092\n",
      "  0.25277526 0.         0.         0.         0.         0.25277526\n",
      "  0.25277526]\n",
      " [0.         0.         0.         0.         0.         0.\n",
      "  0.         0.         0.         0.         0.         0.\n",
      "  0.         0.         0.4472136  0.         0.         0.\n",
      "  0.         0.         0.         0.         0.         0.\n",
      "  0.4472136  0.4472136  0.         0.         0.         0.\n",
      "  0.         0.4472136  0.4472136  0.         0.         0.\n",
      "  0.         0.         0.         0.         0.         0.\n",
      "  0.         0.         0.         0.         0.         0.\n",
      "  0.         0.         0.         0.         0.         0.\n",
      "  0.         0.         0.         0.         0.         0.\n",
      "  0.        ]\n",
      " [0.26345536 0.26345536 0.         0.         0.         0.\n",
      "  0.         0.         0.         0.         0.         0.\n",
      "  0.         0.         0.         0.         0.         0.16816014\n",
      "  0.         0.         0.26345536 0.         0.         0.\n",
      "  0.         0.         0.         0.26345536 0.26345536 0.\n",
      "  0.         0.         0.         0.         0.         0.26345536\n",
      "  0.26345536 0.26345536 0.26345536 0.         0.         0.\n",
      "  0.26345536 0.26345536 0.         0.         0.26345536 0.\n",
      "  0.         0.26345536 0.26345536 0.         0.         0.\n",
      "  0.         0.         0.         0.         0.         0.\n",
      "  0.        ]]\n"
     ]
    }
   ],
   "source": [
    "tfidf_tokeniser=TfidfVectorizer(tokenizer=myTokeniser,ngram_range=(1,2),norm='l2')\n",
    "vectorized_corpus=tfidf_tokeniser.fit_transform(corpus).toarray()\n",
    "print(vectorized_corpus)"
   ]
  },
  {
   "cell_type": "code",
   "execution_count": 33,
   "metadata": {},
   "outputs": [
    {
     "name": "stdout",
     "output_type": "stream",
     "text": [
      "{'indian': 17, 'cricket': 6, 'team': 47, 'win': 53, 'world': 56, 'cup,': 10, 'says': 39, 'capt': 2, 'virat': 51, 'kohli': 21, 'cup': 8, 'held': 15, 'sri': 44, 'lanka': 23, 'indian cricket': 18, 'cricket team': 7, 'team win': 48, 'win world': 55, 'world cup,': 58, 'cup, says': 11, 'says capt': 40, 'capt virat': 3, 'virat kohli': 52, 'kohli world': 22, 'world cup': 57, 'cup held': 9, 'held sri': 16, 'sri lanka': 45, 'next': 29, 'year': 59, 'election,': 12, 'confident': 4, 'pm': 33, 'modi': 26, 'win next': 54, 'next year': 30, 'year election,': 60, 'election, says': 13, 'says confident': 41, 'confident indian': 5, 'indian pm': 19, 'pm modi': 34, 'nobel': 31, 'laurate': 24, 'hearts': 14, 'nobel laurate': 32, 'laurate hearts': 25, 'movie': 27, 'raazi': 35, 'spy': 42, 'thriller': 49, 'based': 0, 'real': 37, 'story': 46, 'movie raazi': 28, 'raazi indian': 36, 'indian spy': 20, 'spy thriller': 43, 'thriller based': 50, 'based real': 1, 'real story': 38}\n"
     ]
    }
   ],
   "source": [
    "print(tfidf_tokeniser.vocabulary_)"
   ]
  },
  {
   "cell_type": "code",
   "execution_count": 34,
   "metadata": {},
   "outputs": [
    {
     "data": {
      "text/plain": [
       "'quickli'"
      ]
     },
     "execution_count": 34,
     "metadata": {},
     "output_type": "execute_result"
    }
   ],
   "source": [
    "ps.stem('quickly')"
   ]
  },
  {
   "cell_type": "code",
   "execution_count": null,
   "metadata": {},
   "outputs": [],
   "source": []
  },
  {
   "cell_type": "code",
   "execution_count": null,
   "metadata": {},
   "outputs": [],
   "source": []
  },
  {
   "cell_type": "code",
   "execution_count": null,
   "metadata": {},
   "outputs": [],
   "source": []
  }
 ],
 "metadata": {
  "kernelspec": {
   "display_name": "Python 3",
   "language": "python",
   "name": "python3"
  },
  "language_info": {
   "codemirror_mode": {
    "name": "ipython",
    "version": 3
   },
   "file_extension": ".py",
   "mimetype": "text/x-python",
   "name": "python",
   "nbconvert_exporter": "python",
   "pygments_lexer": "ipython3",
   "version": "3.6.8"
  }
 },
 "nbformat": 4,
 "nbformat_minor": 2
}
